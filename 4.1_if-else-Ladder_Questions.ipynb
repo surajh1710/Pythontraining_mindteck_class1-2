{
 "cells": [
  {
   "cell_type": "raw",
   "metadata": {},
   "source": [
    "Read Five marks tamil,english,maths,science and social and if all marks are greater than 35 , print pass else print fail"
   ]
  },
  {
   "cell_type": "code",
   "execution_count": 2,
   "metadata": {},
   "outputs": [
    {
     "name": "stdin",
     "output_type": "stream",
     "text": [
      "Enter the marks of tamil:  40\n",
      "Enter the marks of englsih:  50\n",
      "Enter the marks of maths:  35\n",
      "Enter the marks of social 60\n",
      "Enter the marks of science:  100\n"
     ]
    },
    {
     "name": "stdout",
     "output_type": "stream",
     "text": [
      "Fail\n"
     ]
    }
   ],
   "source": [
    "T=int(input(\"Enter the marks of tamil: \"))\n",
    "E=int(input(\"Enter the marks of englsih: \"))\n",
    "M=int(input(\"Enter the marks of maths: \"))\n",
    "S=int(input(\"Enter the marks of social\"))\n",
    "sci=int(input(\"Enter the marks of science: \"))\n",
    "if T>35:\n",
    "    if E>35:\n",
    "        if M>35:\n",
    "            if S>35:\n",
    "                if sci>35:\n",
    "                    print(\"Pass\")\n",
    "                else:\n",
    "                    print(\"Fail\")\n",
    "            else:\n",
    "                print(\"Fail\")\n",
    "        else:\n",
    "            print(\"Fail\")\n",
    "    else:\n",
    "        print(\"Fail\")\n",
    "else:\n",
    "    print(\"Fail\")"
   ]
  }
 ],
 "metadata": {
  "kernelspec": {
   "display_name": "Python 3 (ipykernel)",
   "language": "python",
   "name": "python3"
  },
  "language_info": {
   "codemirror_mode": {
    "name": "ipython",
    "version": 3
   },
   "file_extension": ".py",
   "mimetype": "text/x-python",
   "name": "python",
   "nbconvert_exporter": "python",
   "pygments_lexer": "ipython3",
   "version": "3.13.5"
  }
 },
 "nbformat": 4,
 "nbformat_minor": 4
}
